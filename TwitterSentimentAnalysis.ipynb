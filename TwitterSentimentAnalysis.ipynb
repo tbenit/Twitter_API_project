{
 "cells": [
  {
   "cell_type": "code",
   "execution_count": 64,
   "id": "f64e73b0-4c78-46bc-9d13-db18a49e581a",
   "metadata": {},
   "outputs": [],
   "source": [
    "import tweepy\n",
    "import time"
   ]
  },
  {
   "cell_type": "code",
   "execution_count": 65,
   "id": "7dc77993-83b5-4cb7-b098-6fc1d6191d21",
   "metadata": {},
   "outputs": [],
   "source": [
    "with open('keys.txt') as f:\n",
    "    keys = f.readlines()\n",
    "keys = list(map(lambda x: x.split(\":\")[1].split(\"\\n\")[0],keys))        \n",
    "\n",
    "#Here we are writing a function to read a text file containing the login info for the API \n",
    "#Split it by a constraint into elements and pick the desired info"
   ]
  },
  {
   "cell_type": "code",
   "execution_count": 66,
   "id": "7a937d09-ceea-4108-be87-c0dce65ac6c1",
   "metadata": {},
   "outputs": [],
   "source": [
    "auth = tweepy.OAuthHandler(keys[0], keys[1])\n",
    "auth.set_access_token(keys[2], keys[3])\n",
    "api = tweepy.API(auth)"
   ]
  },
  {
   "cell_type": "code",
   "execution_count": 67,
   "id": "790e7862-4b0e-4be7-a94f-2b9cee1f8ed2",
   "metadata": {},
   "outputs": [
    {
     "name": "stdout",
     "output_type": "stream",
     "text": [
      "Today's date: 2021-07-02\n"
     ]
    }
   ],
   "source": [
    "from datetime import date           \n",
    "today = date.today()                       # Here we need to specify the date when the data is pull \n",
    "print(\"Today's date:\", today)"
   ]
  },
  {
   "cell_type": "code",
   "execution_count": 68,
   "id": "3f6484f3-172b-47ec-a285-8ea58c6041e3",
   "metadata": {},
   "outputs": [],
   "source": [
    "#### WE WILL SET A LIST OF WORDS AND PULL THEIR FULL TWEETS  "
   ]
  },
  {
   "cell_type": "code",
   "execution_count": 69,
   "id": "536af23f-c733-4882-aa5d-475f3723ef87",
   "metadata": {},
   "outputs": [],
   "source": [
    "keywords = ['Dogecoin','Bitcoin','Ethereum','Tether', 'XRP']"
   ]
  },
  {
   "cell_type": "code",
   "execution_count": null,
   "id": "14a6594e-967a-46d4-aa0d-0a5d2dd9fac7",
   "metadata": {
    "tags": []
   },
   "outputs": [],
   "source": [
    "number_of_tweets = 100\n",
    "tweets = []              # store specific results \n",
    "likes = []\n",
    "time = []\n",
    "category = []\n",
    "\n",
    "for word in keywords:\n",
    "    for i in tweepy.Cursor(api.search, q = word, tweet_mode = \"extended\").items(number_of_tweets):\n",
    "        tweets.append(i.full_text)\n",
    "        likes.append(i.favorite_count)\n",
    "        time.append(i.created_at)\n",
    "        category.append(word)"
   ]
  },
  {
   "cell_type": "code",
   "execution_count": null,
   "id": "ddfe8073-4a43-4db5-ad0c-dd0913f5565e",
   "metadata": {},
   "outputs": [],
   "source": [
    "import pandas as pd\n",
    "df = pd.DataFrame({'tweets':tweets,'likes':likes,'time':time, 'category':category})\n",
    "df"
   ]
  },
  {
   "cell_type": "code",
   "execution_count": null,
   "id": "68e38e56-a59e-4b2a-96db-597a2696f254",
   "metadata": {},
   "outputs": [],
   "source": [
    "df.describe()"
   ]
  },
  {
   "cell_type": "code",
   "execution_count": null,
   "id": "6b230a35-54a4-41dd-8f2c-c07835611d15",
   "metadata": {},
   "outputs": [],
   "source": [
    "df = df[~df.tweets.str.contains(\"RT\")] # HERE WE DROP RETWEETS\n",
    "df = df.reset_index(drop=True)  # THIS resets THE INDICES, ITS THE FIRST COLUMN "
   ]
  },
  {
   "cell_type": "code",
   "execution_count": null,
   "id": "003ef94d-99dd-4a06-9248-ffd7e6e3b287",
   "metadata": {},
   "outputs": [],
   "source": [
    "df"
   ]
  },
  {
   "cell_type": "code",
   "execution_count": null,
   "id": "93c628dd-15c2-4699-85fe-b4b6b5e2eb2b",
   "metadata": {},
   "outputs": [],
   "source": [
    "path = \"C:/Users/Test/OneDrive/Escritorio/GITHUB PROJECTS/Twitter sentiment analysis/DATA/\" # SET THE PATH FOR WHERE YOUR DATA FOLDER IS GOING TO BE\n",
    "filename = 'tweets_for_'+str(today)+'.csv'      #WE GIVE THE NAME WHILE PULLING THE DATE OF ACTION\n",
    "df.to_csv(path+filename)  # WE GO AHEAD AND PULL THE DATA WITH THE RIGHT NAME + DATE "
   ]
  },
  {
   "cell_type": "code",
   "execution_count": null,
   "id": "4247d259-0211-42e6-ab79-b1d69a335307",
   "metadata": {},
   "outputs": [],
   "source": [
    "### NOW WE WILL SCHEDULE THE DATA PULLS/ PLEASE SEE README FILE FOR THIS STEP "
   ]
  },
  {
   "cell_type": "code",
   "execution_count": null,
   "id": "1a04abbf-3d5b-4122-a5cc-a38a1017136b",
   "metadata": {},
   "outputs": [],
   "source": []
  },
  {
   "cell_type": "code",
   "execution_count": null,
   "id": "32e84bdd-30e7-416c-8a93-d9c9f9f31897",
   "metadata": {},
   "outputs": [],
   "source": []
  },
  {
   "cell_type": "code",
   "execution_count": null,
   "id": "20366bc8-987b-45a4-bbeb-e5168273dc36",
   "metadata": {},
   "outputs": [],
   "source": []
  }
 ],
 "metadata": {
  "kernelspec": {
   "display_name": "Python 3",
   "language": "python",
   "name": "python3"
  },
  "language_info": {
   "codemirror_mode": {
    "name": "ipython",
    "version": 3
   },
   "file_extension": ".py",
   "mimetype": "text/x-python",
   "name": "python",
   "nbconvert_exporter": "python",
   "pygments_lexer": "ipython3",
   "version": "3.8.10"
  }
 },
 "nbformat": 4,
 "nbformat_minor": 5
}
